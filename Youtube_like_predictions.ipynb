{
  "cells": [
    {
      "cell_type": "code",
      "execution_count": 4,
      "metadata": {
        "id": "blGz9Fm1lHXH"
      },
      "outputs": [],
      "source": [
        "import pandas as pd"
      ]
    },
    {
      "cell_type": "code",
      "execution_count": 5,
      "metadata": {
        "id": "KLK7XIHYlcr4"
      },
      "outputs": [],
      "source": [
        "df = pd.read_csv(\"df_cleaned.csv\")"
      ]
    },
    {
      "cell_type": "code",
      "execution_count": 6,
      "metadata": {
        "id": "MfZh_3bTmQ_t"
      },
      "outputs": [],
      "source": [
        "pd.set_option('display.max_columns', None)"
      ]
    },
    {
      "cell_type": "code",
      "execution_count": 7,
      "metadata": {
        "colab": {
          "base_uri": "https://localhost:8080/"
        },
        "id": "-PkJlqYpmR5D",
        "outputId": "33dab517-89af-4090-f2fc-c294059d6583"
      },
      "outputs": [
        {
          "name": "stdout",
          "output_type": "stream",
          "text": [
            "<class 'pandas.core.frame.DataFrame'>\n",
            "RangeIndex: 40949 entries, 0 to 40948\n",
            "Data columns (total 15 columns):\n",
            " #   Column                  Non-Null Count  Dtype \n",
            "---  ------                  --------------  ----- \n",
            " 0   Unnamed: 0              40949 non-null  int64 \n",
            " 1   video_id                40949 non-null  object\n",
            " 2   trending_date           40949 non-null  object\n",
            " 3   title                   40949 non-null  object\n",
            " 4   channel_title           40949 non-null  object\n",
            " 5   category_id             40949 non-null  int64 \n",
            " 6   publish_time            40949 non-null  object\n",
            " 7   views                   40949 non-null  int64 \n",
            " 8   likes                   40949 non-null  int64 \n",
            " 9   dislikes                40949 non-null  int64 \n",
            " 10  comment_count           40949 non-null  int64 \n",
            " 11  comments_disabled       40949 non-null  bool  \n",
            " 12  ratings_disabled        40949 non-null  bool  \n",
            " 13  video_error_or_removed  40949 non-null  bool  \n",
            " 14  genre                   40949 non-null  object\n",
            "dtypes: bool(3), int64(6), object(6)\n",
            "memory usage: 3.9+ MB\n"
          ]
        }
      ],
      "source": [
        "df.info()"
      ]
    },
    {
      "cell_type": "code",
      "execution_count": 8,
      "metadata": {
        "id": "lntGH5LXmh0s"
      },
      "outputs": [],
      "source": [
        "df.drop([\"Unnamed: 0\"], axis=1, inplace=True)"
      ]
    },
    {
      "cell_type": "code",
      "execution_count": 9,
      "metadata": {
        "id": "iFPlSyTrmvsp"
      },
      "outputs": [],
      "source": [
        "import numpy as np\n"
      ]
    },
    {
      "cell_type": "code",
      "execution_count": 10,
      "metadata": {
        "id": "tSUKb28koHOY"
      },
      "outputs": [],
      "source": [
        "df1=df[['views','comment_count','likes','dislikes','genre']]"
      ]
    },
    {
      "cell_type": "code",
      "execution_count": 11,
      "metadata": {
        "colab": {
          "base_uri": "https://localhost:8080/"
        },
        "id": "BOcRwTCUog36",
        "outputId": "83931b0e-0224-49a0-9c0f-3c749dabf938"
      },
      "outputs": [
        {
          "name": "stderr",
          "output_type": "stream",
          "text": [
            "C:\\Users\\karthik chary\\AppData\\Local\\Temp\\ipykernel_5644\\1761747593.py:4: SettingWithCopyWarning: \n",
            "A value is trying to be set on a copy of a slice from a DataFrame.\n",
            "Try using .loc[row_indexer,col_indexer] = value instead\n",
            "\n",
            "See the caveats in the documentation: https://pandas.pydata.org/pandas-docs/stable/user_guide/indexing.html#returning-a-view-versus-a-copy\n",
            "  df1['genre'] = le.transform(df1['genre'])\n"
          ]
        }
      ],
      "source": [
        "from sklearn.preprocessing import LabelEncoder\n",
        "le = LabelEncoder()\n",
        "le.fit(df1['genre'])\n",
        "df1['genre'] = le.transform(df1['genre'])"
      ]
    },
    {
      "cell_type": "code",
      "execution_count": 12,
      "metadata": {
        "colab": {
          "base_uri": "https://localhost:8080/"
        },
        "id": "UgcVnRHNouHz",
        "outputId": "a778d9c2-c4cf-4cef-f591-a08e8e6ea129"
      },
      "outputs": [
        {
          "data": {
            "text/plain": [
              "array([10,  3,  1, 12,  4,  8, 14,  7, 11,  2,  6,  0, 15,  5,  9, 13])"
            ]
          },
          "execution_count": 12,
          "metadata": {},
          "output_type": "execute_result"
        }
      ],
      "source": [
        "df1['genre'].unique()"
      ]
    },
    {
      "cell_type": "code",
      "execution_count": 13,
      "metadata": {
        "colab": {
          "base_uri": "https://localhost:8080/",
          "height": 424
        },
        "id": "nj5_AYNAo3hK",
        "outputId": "4d31ad00-c2bc-4d91-afb8-aa3c03e99531"
      },
      "outputs": [
        {
          "data": {
            "text/html": [
              "<div>\n",
              "<style scoped>\n",
              "    .dataframe tbody tr th:only-of-type {\n",
              "        vertical-align: middle;\n",
              "    }\n",
              "\n",
              "    .dataframe tbody tr th {\n",
              "        vertical-align: top;\n",
              "    }\n",
              "\n",
              "    .dataframe thead th {\n",
              "        text-align: right;\n",
              "    }\n",
              "</style>\n",
              "<table border=\"1\" class=\"dataframe\">\n",
              "  <thead>\n",
              "    <tr style=\"text-align: right;\">\n",
              "      <th></th>\n",
              "      <th>views</th>\n",
              "      <th>comment_count</th>\n",
              "      <th>likes</th>\n",
              "      <th>dislikes</th>\n",
              "      <th>genre</th>\n",
              "    </tr>\n",
              "  </thead>\n",
              "  <tbody>\n",
              "    <tr>\n",
              "      <th>0</th>\n",
              "      <td>748374</td>\n",
              "      <td>15954</td>\n",
              "      <td>57527</td>\n",
              "      <td>2966</td>\n",
              "      <td>10</td>\n",
              "    </tr>\n",
              "    <tr>\n",
              "      <th>1</th>\n",
              "      <td>98966</td>\n",
              "      <td>532</td>\n",
              "      <td>2486</td>\n",
              "      <td>184</td>\n",
              "      <td>10</td>\n",
              "    </tr>\n",
              "    <tr>\n",
              "      <th>2</th>\n",
              "      <td>321053</td>\n",
              "      <td>895</td>\n",
              "      <td>4451</td>\n",
              "      <td>1772</td>\n",
              "      <td>10</td>\n",
              "    </tr>\n",
              "    <tr>\n",
              "      <th>3</th>\n",
              "      <td>197062</td>\n",
              "      <td>456</td>\n",
              "      <td>7250</td>\n",
              "      <td>217</td>\n",
              "      <td>10</td>\n",
              "    </tr>\n",
              "    <tr>\n",
              "      <th>4</th>\n",
              "      <td>2744430</td>\n",
              "      <td>6541</td>\n",
              "      <td>115426</td>\n",
              "      <td>1110</td>\n",
              "      <td>10</td>\n",
              "    </tr>\n",
              "    <tr>\n",
              "      <th>...</th>\n",
              "      <td>...</td>\n",
              "      <td>...</td>\n",
              "      <td>...</td>\n",
              "      <td>...</td>\n",
              "      <td>...</td>\n",
              "    </tr>\n",
              "    <tr>\n",
              "      <th>40944</th>\n",
              "      <td>1324482</td>\n",
              "      <td>1644</td>\n",
              "      <td>22413</td>\n",
              "      <td>608</td>\n",
              "      <td>13</td>\n",
              "    </tr>\n",
              "    <tr>\n",
              "      <th>40945</th>\n",
              "      <td>1332252</td>\n",
              "      <td>1648</td>\n",
              "      <td>22461</td>\n",
              "      <td>610</td>\n",
              "      <td>13</td>\n",
              "    </tr>\n",
              "    <tr>\n",
              "      <th>40946</th>\n",
              "      <td>1340039</td>\n",
              "      <td>1648</td>\n",
              "      <td>22504</td>\n",
              "      <td>615</td>\n",
              "      <td>13</td>\n",
              "    </tr>\n",
              "    <tr>\n",
              "      <th>40947</th>\n",
              "      <td>1345086</td>\n",
              "      <td>1649</td>\n",
              "      <td>22542</td>\n",
              "      <td>615</td>\n",
              "      <td>13</td>\n",
              "    </tr>\n",
              "    <tr>\n",
              "      <th>40948</th>\n",
              "      <td>1351321</td>\n",
              "      <td>1649</td>\n",
              "      <td>22587</td>\n",
              "      <td>616</td>\n",
              "      <td>13</td>\n",
              "    </tr>\n",
              "  </tbody>\n",
              "</table>\n",
              "<p>40949 rows × 5 columns</p>\n",
              "</div>"
            ],
            "text/plain": [
              "         views  comment_count   likes  dislikes  genre\n",
              "0       748374          15954   57527      2966     10\n",
              "1        98966            532    2486       184     10\n",
              "2       321053            895    4451      1772     10\n",
              "3       197062            456    7250       217     10\n",
              "4      2744430           6541  115426      1110     10\n",
              "...        ...            ...     ...       ...    ...\n",
              "40944  1324482           1644   22413       608     13\n",
              "40945  1332252           1648   22461       610     13\n",
              "40946  1340039           1648   22504       615     13\n",
              "40947  1345086           1649   22542       615     13\n",
              "40948  1351321           1649   22587       616     13\n",
              "\n",
              "[40949 rows x 5 columns]"
            ]
          },
          "execution_count": 13,
          "metadata": {},
          "output_type": "execute_result"
        }
      ],
      "source": [
        "df1"
      ]
    },
    {
      "cell_type": "code",
      "execution_count": 27,
      "metadata": {
        "id": "Zq157pN4tzHi"
      },
      "outputs": [],
      "source": [
        "df1_genre = dict(zip(df['genre'],df1['genre']))"
      ]
    },
    {
      "cell_type": "code",
      "execution_count": 28,
      "metadata": {
        "colab": {
          "base_uri": "https://localhost:8080/"
        },
        "id": "V8GseuqIuH9e",
        "outputId": "4953a9c1-d404-46c7-909e-e06278e976c0"
      },
      "outputs": [
        {
          "data": {
            "text/plain": [
              "{'People & Blogs': 10,\n",
              " 'Entertainment': 3,\n",
              " 'Comedy': 1,\n",
              " 'Science & Technology': 12,\n",
              " 'Film & Animation': 4,\n",
              " 'News & Politics': 8,\n",
              " 'Sports': 14,\n",
              " 'Music': 7,\n",
              " 'Pets & Animals': 11,\n",
              " 'Education': 2,\n",
              " 'Howto & Style': 6,\n",
              " 'Autos & Vehicles': 0,\n",
              " 'Travel & Events': 15,\n",
              " 'Gaming': 5,\n",
              " 'Nonprofits & Activism': 9,\n",
              " 'Shows': 13}"
            ]
          },
          "execution_count": 28,
          "metadata": {},
          "output_type": "execute_result"
        }
      ],
      "source": [
        "df1_genre"
      ]
    },
    {
      "cell_type": "code",
      "execution_count": 24,
      "metadata": {},
      "outputs": [],
      "source": [
        "df_g = pd.read_json(\"US_category_id (1).json\")"
      ]
    },
    {
      "cell_type": "code",
      "execution_count": 26,
      "metadata": {},
      "outputs": [],
      "source": [
        "genre = [df_g['items'][i]['snippet']['title'] for i in range(len(df_g))]"
      ]
    },
    {
      "cell_type": "code",
      "execution_count": 16,
      "metadata": {
        "id": "iv7Rs27lpFGu"
      },
      "outputs": [],
      "source": [
        "import seaborn as sns"
      ]
    },
    {
      "cell_type": "code",
      "execution_count": 17,
      "metadata": {
        "colab": {
          "base_uri": "https://localhost:8080/",
          "height": 452
        },
        "id": "YMcnwiQCpLKF",
        "outputId": "7a087678-80e8-4b03-9ce6-08f7e6a0bf60"
      },
      "outputs": [
        {
          "data": {
            "text/plain": [
              "<Axes: >"
            ]
          },
          "execution_count": 17,
          "metadata": {},
          "output_type": "execute_result"
        },
        {
          "data": {
            "image/png": "[encoded data removed]",
            "text/plain": [
              "<Figure size 640x480 with 2 Axes>"
            ]
          },
          "metadata": {},
          "output_type": "display_data"
        }
      ],
      "source": [
        "sns.heatmap(df1.corr(),annot=True)\n"
      ]
    },
    {
      "cell_type": "code",
      "execution_count": 18,
      "metadata": {
        "id": "jXTqy0q4pUGP"
      },
      "outputs": [],
      "source": [
        "X = df1[['views','comment_count','dislikes','genre']]\n",
        "y=df1['likes']\n",
        "from sklearn.model_selection import train_test_split\n",
        "X_train,X_test,y_train,y_test=train_test_split(X,y,test_size=0.2,random_state=42)"
      ]
    },
    {
      "cell_type": "code",
      "execution_count": 19,
      "metadata": {
        "colab": {
          "base_uri": "https://localhost:8080/",
          "height": 424
        },
        "id": "9n0q_p0IugE9",
        "outputId": "857a4de5-82c0-4fb6-bfc7-65ed606a19a1"
      },
      "outputs": [
        {
          "data": {
            "text/html": [
              "<div>\n",
              "<style scoped>\n",
              "    .dataframe tbody tr th:only-of-type {\n",
              "        vertical-align: middle;\n",
              "    }\n",
              "\n",
              "    .dataframe tbody tr th {\n",
              "        vertical-align: top;\n",
              "    }\n",
              "\n",
              "    .dataframe thead th {\n",
              "        text-align: right;\n",
              "    }\n",
              "</style>\n",
              "<table border=\"1\" class=\"dataframe\">\n",
              "  <thead>\n",
              "    <tr style=\"text-align: right;\">\n",
              "      <th></th>\n",
              "      <th>views</th>\n",
              "      <th>comment_count</th>\n",
              "      <th>dislikes</th>\n",
              "      <th>genre</th>\n",
              "    </tr>\n",
              "  </thead>\n",
              "  <tbody>\n",
              "    <tr>\n",
              "      <th>0</th>\n",
              "      <td>748374</td>\n",
              "      <td>15954</td>\n",
              "      <td>2966</td>\n",
              "      <td>10</td>\n",
              "    </tr>\n",
              "    <tr>\n",
              "      <th>1</th>\n",
              "      <td>98966</td>\n",
              "      <td>532</td>\n",
              "      <td>184</td>\n",
              "      <td>10</td>\n",
              "    </tr>\n",
              "    <tr>\n",
              "      <th>2</th>\n",
              "      <td>321053</td>\n",
              "      <td>895</td>\n",
              "      <td>1772</td>\n",
              "      <td>10</td>\n",
              "    </tr>\n",
              "    <tr>\n",
              "      <th>3</th>\n",
              "      <td>197062</td>\n",
              "      <td>456</td>\n",
              "      <td>217</td>\n",
              "      <td>10</td>\n",
              "    </tr>\n",
              "    <tr>\n",
              "      <th>4</th>\n",
              "      <td>2744430</td>\n",
              "      <td>6541</td>\n",
              "      <td>1110</td>\n",
              "      <td>10</td>\n",
              "    </tr>\n",
              "    <tr>\n",
              "      <th>...</th>\n",
              "      <td>...</td>\n",
              "      <td>...</td>\n",
              "      <td>...</td>\n",
              "      <td>...</td>\n",
              "    </tr>\n",
              "    <tr>\n",
              "      <th>40944</th>\n",
              "      <td>1324482</td>\n",
              "      <td>1644</td>\n",
              "      <td>608</td>\n",
              "      <td>13</td>\n",
              "    </tr>\n",
              "    <tr>\n",
              "      <th>40945</th>\n",
              "      <td>1332252</td>\n",
              "      <td>1648</td>\n",
              "      <td>610</td>\n",
              "      <td>13</td>\n",
              "    </tr>\n",
              "    <tr>\n",
              "      <th>40946</th>\n",
              "      <td>1340039</td>\n",
              "      <td>1648</td>\n",
              "      <td>615</td>\n",
              "      <td>13</td>\n",
              "    </tr>\n",
              "    <tr>\n",
              "      <th>40947</th>\n",
              "      <td>1345086</td>\n",
              "      <td>1649</td>\n",
              "      <td>615</td>\n",
              "      <td>13</td>\n",
              "    </tr>\n",
              "    <tr>\n",
              "      <th>40948</th>\n",
              "      <td>1351321</td>\n",
              "      <td>1649</td>\n",
              "      <td>616</td>\n",
              "      <td>13</td>\n",
              "    </tr>\n",
              "  </tbody>\n",
              "</table>\n",
              "<p>40949 rows × 4 columns</p>\n",
              "</div>"
            ],
            "text/plain": [
              "         views  comment_count  dislikes  genre\n",
              "0       748374          15954      2966     10\n",
              "1        98966            532       184     10\n",
              "2       321053            895      1772     10\n",
              "3       197062            456       217     10\n",
              "4      2744430           6541      1110     10\n",
              "...        ...            ...       ...    ...\n",
              "40944  1324482           1644       608     13\n",
              "40945  1332252           1648       610     13\n",
              "40946  1340039           1648       615     13\n",
              "40947  1345086           1649       615     13\n",
              "40948  1351321           1649       616     13\n",
              "\n",
              "[40949 rows x 4 columns]"
            ]
          },
          "execution_count": 19,
          "metadata": {},
          "output_type": "execute_result"
        }
      ],
      "source": [
        "X"
      ]
    },
    {
      "cell_type": "code",
      "execution_count": 20,
      "metadata": {
        "colab": {
          "base_uri": "https://localhost:8080/",
          "height": 75
        },
        "id": "x4oAJi13ph00",
        "outputId": "cf3ad0c2-a3b2-462f-ee52-a41623baf064"
      },
      "outputs": [
        {
          "data": {
            "text/html": [
              "<style>#sk-container-id-1 {color: black;background-color: white;}#sk-container-id-1 pre{padding: 0;}#sk-container-id-1 div.sk-toggleable {background-color: white;}#sk-container-id-1 label.sk-toggleable__label {cursor: pointer;display: block;width: 100%;margin-bottom: 0;padding: 0.3em;box-sizing: border-box;text-align: center;}#sk-container-id-1 label.sk-toggleable__label-arrow:before {content: \"▸\";float: left;margin-right: 0.25em;color: #696969;}#sk-container-id-1 label.sk-toggleable__label-arrow:hover:before {color: black;}#sk-container-id-1 div.sk-estimator:hover label.sk-toggleable__label-arrow:before {color: black;}#sk-container-id-1 div.sk-toggleable__content {max-height: 0;max-width: 0;overflow: hidden;text-align: left;background-color: #f0f8ff;}#sk-container-id-1 div.sk-toggleable__content pre {margin: 0.2em;color: black;border-radius: 0.25em;background-color: #f0f8ff;}#sk-container-id-1 input.sk-toggleable__control:checked~div.sk-toggleable__content {max-height: 200px;max-width: 100%;overflow: auto;}#sk-container-id-1 input.sk-toggleable__control:checked~label.sk-toggleable__label-arrow:before {content: \"▾\";}#sk-container-id-1 div.sk-estimator input.sk-toggleable__control:checked~label.sk-toggleable__label {background-color: #d4ebff;}#sk-container-id-1 div.sk-label input.sk-toggleable__control:checked~label.sk-toggleable__label {background-color: #d4ebff;}#sk-container-id-1 input.sk-hidden--visually {border: 0;clip: rect(1px 1px 1px 1px);clip: rect(1px, 1px, 1px, 1px);height: 1px;margin: -1px;overflow: hidden;padding: 0;position: absolute;width: 1px;}#sk-container-id-1 div.sk-estimator {font-family: monospace;background-color: #f0f8ff;border: 1px dotted black;border-radius: 0.25em;box-sizing: border-box;margin-bottom: 0.5em;}#sk-container-id-1 div.sk-estimator:hover {background-color: #d4ebff;}#sk-container-id-1 div.sk-parallel-item::after {content: \"\";width: 100%;border-bottom: 1px solid gray;flex-grow: 1;}#sk-container-id-1 div.sk-label:hover label.sk-toggleable__label {background-color: #d4ebff;}#sk-container-id-1 div.sk-serial::before {content: \"\";position: absolute;border-left: 1px solid gray;box-sizing: border-box;top: 0;bottom: 0;left: 50%;z-index: 0;}#sk-container-id-1 div.sk-serial {display: flex;flex-direction: column;align-items: center;background-color: white;padding-right: 0.2em;padding-left: 0.2em;position: relative;}#sk-container-id-1 div.sk-item {position: relative;z-index: 1;}#sk-container-id-1 div.sk-parallel {display: flex;align-items: stretch;justify-content: center;background-color: white;position: relative;}#sk-container-id-1 div.sk-item::before, #sk-container-id-1 div.sk-parallel-item::before {content: \"\";position: absolute;border-left: 1px solid gray;box-sizing: border-box;top: 0;bottom: 0;left: 50%;z-index: -1;}#sk-container-id-1 div.sk-parallel-item {display: flex;flex-direction: column;z-index: 1;position: relative;background-color: white;}#sk-container-id-1 div.sk-parallel-item:first-child::after {align-self: flex-end;width: 50%;}#sk-container-id-1 div.sk-parallel-item:last-child::after {align-self: flex-start;width: 50%;}#sk-container-id-1 div.sk-parallel-item:only-child::after {width: 0;}#sk-container-id-1 div.sk-dashed-wrapped {border: 1px dashed gray;margin: 0 0.4em 0.5em 0.4em;box-sizing: border-box;padding-bottom: 0.4em;background-color: white;}#sk-container-id-1 div.sk-label label {font-family: monospace;font-weight: bold;display: inline-block;line-height: 1.2em;}#sk-container-id-1 div.sk-label-container {text-align: center;}#sk-container-id-1 div.sk-container {/* jupyter's `normalize.less` sets `[hidden] { display: none; }` but bootstrap.min.css set `[hidden] { display: none !important; }` so we also need the `!important` here to be able to override the default hidden behavior on the sphinx rendered scikit-learn.org. See: https://github.com/scikit-learn/scikit-learn/issues/21755 */display: inline-block !important;position: relative;}#sk-container-id-1 div.sk-text-repr-fallback {display: none;}</style><div id=\"sk-container-id-1\" class=\"sk-top-container\"><div class=\"sk-text-repr-fallback\"><pre>LinearRegression()</pre><b>In a Jupyter environment, please rerun this cell to show the HTML representation or trust the notebook. <br />On GitHub, the HTML representation is unable to render, please try loading this page with nbviewer.org.</b></div><div class=\"sk-container\" hidden><div class=\"sk-item\"><div class=\"sk-estimator sk-toggleable\"><input class=\"sk-toggleable__control sk-hidden--visually\" id=\"sk-estimator-id-1\" type=\"checkbox\" checked><label for=\"sk-estimator-id-1\" class=\"sk-toggleable__label sk-toggleable__label-arrow\">LinearRegression</label><div class=\"sk-toggleable__content\"><pre>LinearRegression()</pre></div></div></div></div></div>"
            ],
            "text/plain": [
              "LinearRegression()"
            ]
          },
          "execution_count": 20,
          "metadata": {},
          "output_type": "execute_result"
        }
      ],
      "source": [
        "from sklearn.linear_model import LinearRegression\n",
        "lr=LinearRegression()\n",
        "lr.fit(X_train,y_train)"
      ]
    },
    {
      "cell_type": "code",
      "execution_count": 21,
      "metadata": {
        "colab": {
          "base_uri": "https://localhost:8080/"
        },
        "id": "QHmPyBr9pmNg",
        "outputId": "58517763-c6ae-49b2-ee7e-136279e529aa"
      },
      "outputs": [
        {
          "data": {
            "text/plain": [
              "0.8883282601892243"
            ]
          },
          "execution_count": 21,
          "metadata": {},
          "output_type": "execute_result"
        }
      ],
      "source": [
        "lr.score(X_test,y_test)"
      ]
    },
    {
      "cell_type": "code",
      "execution_count": 29,
      "metadata": {
        "id": "stLIwaQYvgkz"
      },
      "outputs": [],
      "source": [
        "import pickle\n",
        "with open(\"model_pickle\",'rb')as mod:\n",
        "    model=pickle.load(mod)"
      ]
    },
    {
      "cell_type": "code",
      "execution_count": null,
      "metadata": {},
      "outputs": [],
      "source": []
    }
  ],
  "metadata": {
    "colab": {
      "provenance": []
    },
    "kernelspec": {
      "display_name": "Python 3",
      "name": "python3"
    },
    "language_info": {
      "codemirror_mode": {
        "name": "ipython",
        "version": 3
      },
      "file_extension": ".py",
      "mimetype": "text/x-python",
      "name": "python",
      "nbconvert_exporter": "python",
      "pygments_lexer": "ipython3",
      "version": "3.10.9"
    }
  },
  "nbformat": 4,
  "nbformat_minor": 0
}
